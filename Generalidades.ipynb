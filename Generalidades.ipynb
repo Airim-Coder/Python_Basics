{
 "cells": [
  {
   "cell_type": "markdown",
   "metadata": {},
   "source": [
    "# Básicos"
   ]
  },
  {
   "cell_type": "markdown",
   "metadata": {},
   "source": [
    "## Imprimir en consola:"
   ]
  },
  {
   "cell_type": "code",
   "execution_count": null,
   "metadata": {},
   "outputs": [],
   "source": [
    "print(\"Hola Mundo\");"
   ]
  },
  {
   "cell_type": "markdown",
   "metadata": {},
   "source": [
    "## Tipos de Datos:"
   ]
  },
  {
   "cell_type": "code",
   "execution_count": null,
   "metadata": {},
   "outputs": [],
   "source": [
    "numero = 10\n",
    "double = 10.200\n",
    "String = \"Hola Mundo\"\n",
    "boolean = True\n",
    "\n",
    "print(numero);\n",
    "print(double);\n",
    "print(String);\n",
    "print(boolean);"
   ]
  },
  {
   "cell_type": "markdown",
   "metadata": {},
   "source": [
    "### Métodos de la clase String"
   ]
  },
  {
   "cell_type": "code",
   "execution_count": null,
   "metadata": {},
   "outputs": [],
   "source": [
    "cadena = input(\"Digite una cadena de texto: \")\n",
    "\n",
    "\n",
    "\n",
    "# Obtiene el largo de la cadena\n",
    "\n",
    "print(\"\\nEl número de carácteres de la cadena es: \", len(cadena))\n",
    "\n",
    "# Devuelve True si la adena contiene solo letras\n",
    "\n",
    "if cadena.isalpha():\n",
    "    print(\"\\nLa cadena es alfabética\")\n",
    "\n",
    "# Devuelve True si la cadena contiene solo números\n",
    "\n",
    "if cadena.isdigit():\n",
    "    print(\"\\nLa cadena es númerica\")\n",
    "\n",
    "# Convierte a mayúsculas\n",
    "\n",
    "print(\"\\nEn Mayúsculas: \", cadena.upper())\n",
    "\n",
    "# Convierte a minúsculas\n",
    "\n",
    "print(\"\\nEn Minúsculas: \", cadena.lower())\n",
    "\n",
    "# Reemplazar texto\n",
    "\n",
    "print(\"\\nReemplaza a por x: \", cadena.replace(\"a\", \"x\"))\n",
    "\n",
    "# Búsca la posición según carácter ingresado\n",
    "\n",
    "print(\"\\nLa posición del carácter es: \", cadena.find(\"a\"))\n",
    "\n",
    "# Crea lista de subcadenas\n",
    "\n",
    "print(\"\\nLista de sub-cadenas: \", cadena.split(\"a\"))"
   ]
  },
  {
   "cell_type": "markdown",
   "metadata": {},
   "source": [
    "## Crear Lista:\n",
    "a diferencia de las tuplas las listas no son inmutables"
   ]
  },
  {
   "cell_type": "code",
   "execution_count": null,
   "metadata": {},
   "outputs": [],
   "source": [
    "mi_lista = [\"Texto\", 23, 13, True, [1,2]]\n",
    "\n",
    "print(mi_lista[3])\n",
    "\n",
    "# Métodos\n",
    "\n",
    "mi_lista.append (\"Objeto\") # Añade un item\n",
    "\n",
    "print(mi_lista)"
   ]
  },
  {
   "cell_type": "markdown",
   "metadata": {},
   "source": [
    "## Crear Tupla:\n",
    "Son inmutables"
   ]
  },
  {
   "cell_type": "code",
   "execution_count": null,
   "metadata": {},
   "outputs": [],
   "source": [
    "mi_cadena = (\"Texto\", 20, 10.5, \"Python\")\n",
    "\n",
    "\n",
    "print(mi_cadena); # Imprime tupla completa\n",
    "print(mi_cadena[0]); # Imprime indice 0\n",
    "print(mi_cadena[1]); # Imprime indice 1\n",
    "print(mi_cadena[2]); # Imprime indice 2\n",
    "print(mi_cadena[3]); # Imprime indice 3\n",
    "\n",
    "# Concatenar\n",
    "\n",
    "print(\"------------\");\n",
    "print(mi_cadena[1:3]) # Imprime indice 1 y 3"
   ]
  },
  {
   "cell_type": "markdown",
   "metadata": {},
   "source": [
    "## Crear un Diccionario"
   ]
  },
  {
   "cell_type": "code",
   "execution_count": null,
   "metadata": {},
   "outputs": [],
   "source": [
    "mi_diccionario = {\"clave\": 1234, \"Sonic Zone\": 123}\n",
    "\n",
    "\n",
    "print(mi_diccionario[\"clave\"])\n",
    "print(mi_diccionario[\"Sonic Zone\"])\n",
    "\n",
    "\n",
    "# Cambiar el valor\n",
    "\n",
    "print(\"-----------\")\n",
    "\n",
    "mi_diccionario[\"clave\"] = \"Nuevo pass\"\n",
    "print(mi_diccionario[\"clave\"])"
   ]
  },
  {
   "cell_type": "markdown",
   "metadata": {},
   "source": [
    "# Compuertas Logicas"
   ]
  },
  {
   "cell_type": "markdown",
   "metadata": {},
   "source": [
    "## Operadores Relacionales:"
   ]
  },
  {
   "cell_type": "code",
   "execution_count": null,
   "metadata": {},
   "outputs": [],
   "source": [
    "print(10 == 12) # es igual\n",
    "print(10 != 12) # no es igual\n",
    "print(8 < 9) # menor que\n",
    "print(8 > 9) # mayor que\n",
    "print(10 <= 20) # menor igual que\n",
    "print(10 >= 20) # mayor igual que\n",
    "\n",
    "# Otro ejemplo\n",
    "\n",
    "print(\"-----------\");\n",
    "\n",
    "listaUno = [10, 20, 30]\n",
    "listaDos = [2, 4, 6]\n",
    "\n",
    "print(listaUno == listaDos) "
   ]
  },
  {
   "cell_type": "markdown",
   "metadata": {},
   "source": [
    "## Operadores Logicos:"
   ]
  },
  {
   "cell_type": "code",
   "execution_count": null,
   "metadata": {},
   "outputs": [],
   "source": [
    "#Operador lógico AND\n",
    "\n",
    "# si ambas son verdaderas True\n",
    "# si una es falsa y la otra verdadera False\n",
    "\n",
    "caso_1 = (100 > 500) and (\"hola\" == \"hola\")\n",
    "caso_2 = (10 == 10) and (\"hola\" == \"hola\")\n",
    "\n",
    "print(caso_1)\n",
    "print(caso_2)\n",
    "\n",
    "print(\"------------\")\n",
    "\n",
    "# Operador lógico OR\n",
    "\n",
    "# Si se cumple la primera y no la segunda True o viceversa\n",
    "\n",
    "caso_3 = (10 > 500) or (\"hola\" == \"hola\")\n",
    "\n",
    "print(caso_3)\n",
    "\n",
    "\n",
    "print(\"------------\")\n",
    "\n",
    "# Operador lógico NOT\n",
    "\n",
    "# No es ... \n",
    "\n",
    "caso_4 = not(10 > 50)\n",
    "\n",
    "print(caso_4)"
   ]
  },
  {
   "cell_type": "markdown",
   "metadata": {},
   "source": [
    "## Operadores Aritmeticos"
   ]
  },
  {
   "cell_type": "code",
   "execution_count": null,
   "metadata": {},
   "outputs": [],
   "source": [
    "sumar = 10 + 10\n",
    "restar = 27 - 7\n",
    "multiplicar = 2 * 20\n",
    "dividir = 10 / 2\n",
    "residuo = 27 % 2\n",
    "exponente = 3 ** 3\n",
    "\n",
    "print(sumar);\n",
    "print(restar);\n",
    "print(multiplicar);\n",
    "print(dividir);\n",
    "print(residuo);\n",
    "print(exponente);\n",
    "\n",
    "\n",
    "# Otro ejemplo\n",
    "\n",
    "num1 = 40\n",
    "num2 = 34\n",
    "num3 = 55\n",
    "\n",
    "promedio = num1 + num2 + num3; # Sumamos 3 notas\n",
    "final = promedio / 3; # Dividimos x cant. notas\n",
    "\n",
    "print(\"----------\");\n",
    "print(\"----------\");\n",
    "\n",
    "print(promedio);\n",
    "print(final);"
   ]
  },
  {
   "cell_type": "markdown",
   "metadata": {},
   "source": [
    "## Estructuras de Decisión"
   ]
  },
  {
   "cell_type": "code",
   "execution_count": null,
   "metadata": {},
   "outputs": [],
   "source": [
    "# Estructura If y Else\n",
    "\n",
    "numero = 0\n",
    "\n",
    "if numero > 10:\n",
    "    print(\"El numero es mayor a 10\")\n",
    "\n",
    "elif numero == 5:\n",
    "    print(\"El numero es 5\")\n",
    "    \n",
    "else:\n",
    "    print(\"numero no es mayor a 10\")"
   ]
  },
  {
   "cell_type": "markdown",
   "metadata": {},
   "source": [
    "# Ciclos"
   ]
  },
  {
   "cell_type": "markdown",
   "metadata": {},
   "source": [
    "Ciclo FOR:"
   ]
  },
  {
   "cell_type": "code",
   "execution_count": null,
   "metadata": {},
   "outputs": [],
   "source": [
    "lista = [\"Java\", \"Python\", \"Html\", \"Ruby\"]\n",
    "for lenguaje in lista:\n",
    "    print(lenguaje)\n",
    "\n",
    "# Otro ejemplo\n",
    "\n",
    "for edad in range(10, 22):\n",
    "    print(\"Tu edad es: \", edad)\n",
    "\n",
    "# Tabla de multiplicar\n",
    "\n",
    "Tabla = [1, 2, 3, 4, 5, 6, 7, 8, 9 ,10, 11, 12]\n",
    "multiplicar = int(input(\"Ingresa numero que deseas multiplicar: \"))\n",
    "for numero in Tabla:\n",
    "    print(multiplicar, \"x\", numero, \"=\", multiplicar*numero)"
   ]
  },
  {
   "cell_type": "markdown",
   "metadata": {},
   "source": [
    "Ciclo WHILE:"
   ]
  },
  {
   "cell_type": "code",
   "execution_count": null,
   "metadata": {},
   "outputs": [],
   "source": [
    "# Estructura de iteración WHILE\n",
    "\n",
    "    # Mientras la condición se cumpla se ejecutarán\n",
    "    # las instrucciones en el código\n",
    "\n",
    "respuesta = \"si\"\n",
    "numero = 20\n",
    "\n",
    "while respuesta == \"si\":\n",
    "    numero = int(input(\"Digite un número: \"))\n",
    "\n",
    "    if numero > 0:\n",
    "        print(\"El numero es positivo\")\n",
    "        \n",
    "    elif numero == 5:\n",
    "        print(\"El numero es 5\")\n",
    "        \n",
    "    else:\n",
    "        print(\"ingrese un numero correcto\")"
   ]
  },
  {
   "cell_type": "markdown",
   "metadata": {},
   "source": [
    "# Programacion Orientada a Objetos (POO)"
   ]
  },
  {
   "cell_type": "markdown",
   "metadata": {},
   "source": [
    "## Clases:"
   ]
  },
  {
   "cell_type": "code",
   "execution_count": null,
   "metadata": {},
   "outputs": [],
   "source": [
    "# Clases o programación orientada a objetos en python\n",
    "\n",
    "class miPerro:\n",
    "\n",
    "# Métodos\n",
    "    \n",
    "    def __init__(self):\n",
    "        print(\"Todos somos humanos\")\n",
    "\n",
    "    def ladrar(self, ladrido):\n",
    "        print(ladrido)\n",
    "\n",
    "    def juego(self, jugar):\n",
    "        print(jugar)\n",
    "\n",
    "\n",
    "# Creamos Objetos\n",
    "\n",
    "duke = miPerro() \n",
    "parker = miPerro()\n",
    "\n",
    "\n",
    "duke.ladrar(\"Guau guau soy duke\")\n",
    "\n"
   ]
  },
  {
   "cell_type": "markdown",
   "metadata": {},
   "source": [
    "## Herencia"
   ]
  },
  {
   "cell_type": "code",
   "execution_count": null,
   "metadata": {},
   "outputs": [],
   "source": [
    "# En este ejemplo la clase profesional hereda de Humano\n",
    "# obtiene la variable edad para poder imprimirla en un método.\n",
    "\n",
    "class Humano:\n",
    "    def __init__(self, edad):\n",
    "        self.edad = edad\n",
    "        \n",
    "\n",
    "class Profesional(Humano):\n",
    "    def programar(self, lenguaje):\n",
    "        print (\"Voy a programar en\", lenguaje)\n",
    "\n",
    "\n",
    "            \n",
    "pedro = Profesional(23)\n",
    "\n",
    "print('Soy Pedro y tengo', pedro.edad)"
   ]
  },
  {
   "cell_type": "markdown",
   "metadata": {},
   "source": [
    "## Encapsulamiento\n",
    "Las clases pueden publicas o Privadas"
   ]
  },
  {
   "cell_type": "code",
   "execution_count": null,
   "metadata": {},
   "outputs": [],
   "source": [
    "class Ejemplo:\n",
    "    def publico(self):\n",
    "        return \"Soy un método público\"\n",
    "\n",
    "    def __privado(self):\n",
    "        return \"Soy un método privado\"\n",
    "\n",
    "# Instanciamos un objeto de la clase.\n",
    "\n",
    "objeto = Ejemplo()\n",
    "\n",
    "print(objeto.publico())\n",
    "print(objeto.__privado())\n",
    "\n",
    "\n",
    "# Solo imprime el método público, el privado no porque es privado.\n",
    "# Esta es una forma para mostrar un método privado\n",
    "#(se debe borrar \" print(objeto.__privado())\")\n",
    "\n",
    "print(objeto._Ejemplo__privado())"
   ]
  },
  {
   "cell_type": "markdown",
   "metadata": {},
   "source": [
    "## Funciones"
   ]
  },
  {
   "cell_type": "code",
   "execution_count": null,
   "metadata": {},
   "outputs": [],
   "source": [
    "def mi_funcion():\n",
    "    \"\"\" Primera Función en Python\n",
    "        Imprime dos mensajes \"\"\"\n",
    "\n",
    "    print (\"hola a todos\")\n",
    "    print (\"Esta es una función\")\n",
    "\n",
    "\n",
    "mi_funcion()\n",
    "\n",
    "\n",
    "print(\"---------------\")"
   ]
  },
  {
   "cell_type": "markdown",
   "metadata": {},
   "source": [
    "## Modulos"
   ]
  },
  {
   "cell_type": "markdown",
   "metadata": {},
   "source": [
    "Archivo Modulo.py"
   ]
  },
  {
   "cell_type": "code",
   "execution_count": null,
   "metadata": {},
   "outputs": [],
   "source": [
    "def suma():\n",
    "    a = int(input(\"Ingresa un numero: \"))\n",
    "    b = int(input(\"Ingresa un numero: \"))\n",
    "\n",
    "    print(a + b)"
   ]
  },
  {
   "cell_type": "markdown",
   "metadata": {},
   "source": [
    "Archivo Main.py"
   ]
  },
  {
   "cell_type": "code",
   "execution_count": null,
   "metadata": {},
   "outputs": [],
   "source": [
    "import Modulo\n",
    "\n",
    "Modulo.suma()"
   ]
  }
 ],
 "metadata": {
  "language_info": {
   "name": "python"
  }
 },
 "nbformat": 4,
 "nbformat_minor": 2
}
