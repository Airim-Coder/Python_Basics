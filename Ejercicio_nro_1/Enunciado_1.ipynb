{
 "cells": [
  {
   "cell_type": "markdown",
   "metadata": {},
   "source": [
    "## Un productor agrícola requiere un programa que le facilite la administración de su granja donde produce tres productos: Leche, Huevos y Espinacas. Dentro de su operación, se estila que cada tarde se contabiliza la producción generada de leche (en litros), de huevos (en unidades) y de espinacas (en unidades). Estos serán datos que se ingresen en el programa. Además, se sabe que los precios de venta de cada uno de los bienes es el siguiente:\n",
    "- El litro de leche se vende a $400\n",
    "- La unidad de huevo se vende a $70\n",
    "- La unidad de espinaca se vende a $200\n",
    "\n",
    "### Asuma que siempre se vende toda la producción.\n",
    "\n",
    "### Adicionalmente, cada producto tiene un porcentaje de costo asociado a transporte y un porcentaje de costo asociado a almacenamiento en la vega (aplicado al total de la venta por producto) según la siguiente tabla:\n",
    "|Producto |% Transporte |% Almacenamiento|\n",
    "|---------|-------------|----------------|\n",
    "|Huevos |4.0 |3.0|\n",
    "|Leche |4.5 |3.5|\n",
    "|Espinaca |4.3 |3.8|\n",
    "\n",
    "### Por ejemplo, del total de la venta de Huevos se descuenta un 4% por concepto de transporte y un 3% por concepto de almacenamiento.\n",
    "\n",
    "### Al finalizar cada día se debe escoger un producto, para luego ingresar el total producido de dicho producto y entregar al productor el monto a pagar por concepto de almacenamiento, transporte y el resultado de la utilidad (ganancia) obtenida para dicha producto.\n",
    "\n",
    "### De acuerdo a lo estipulado, se pide generar un programa que:\n",
    "- Permita al usuario seleccionar un producto (solo uno de los tres) para realizar los cálculos.\n",
    "- Solicite al usuario la cantidad producida del producto seleccionado.\n",
    "- Imprima el costo por concepto de transporte para el producto seleccionado (sin decimales).\n",
    "- Imprima el costo por concepto de almacenamiento para el producto seleccionado (sin decimales).\n",
    "- Imprima la utilidad (ganancia = ingreso - costos) obtenida para el producto seleccionado."
   ]
  },
  {
   "cell_type": "markdown",
   "metadata": {},
   "source": [
    "*Nota: Usa Compuertas Logicas*"
   ]
  },
  {
   "cell_type": "code",
   "execution_count": null,
   "metadata": {},
   "outputs": [],
   "source": [
    "print()"
   ]
  }
 ],
 "metadata": {
  "kernelspec": {
   "display_name": "Python 3",
   "language": "python",
   "name": "python3"
  },
  "language_info": {
   "name": "python",
   "version": "3.12.3"
  }
 },
 "nbformat": 4,
 "nbformat_minor": 2
}
